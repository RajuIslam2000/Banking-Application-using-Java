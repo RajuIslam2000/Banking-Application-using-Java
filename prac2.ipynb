{
  "cells": [
    {
      "cell_type": "markdown",
      "metadata": {
        "id": "view-in-github",
        "colab_type": "text"
      },
      "source": [
        "<a href=\"https://colab.research.google.com/github/RajuIslam2000/Banking-Application-using-Java/blob/master/prac2.ipynb\" target=\"_parent\"><img src=\"https://colab.research.google.com/assets/colab-badge.svg\" alt=\"Open In Colab\"/></a>"
      ]
    },
    {
      "cell_type": "code",
      "execution_count": null,
      "metadata": {
        "colab": {
          "base_uri": "https://localhost:8080/"
        },
        "id": "d6flIPnVKqTr",
        "outputId": "c7de7be8-1e57-453b-cefa-8018fe034e50"
      },
      "outputs": [
        {
          "name": "stdout",
          "output_type": "stream",
          "text": [
            "<class 'int'>\n"
          ]
        }
      ],
      "source": [
        "a= 5\n",
        "print (type(a))"
      ]
    },
    {
      "cell_type": "code",
      "execution_count": null,
      "metadata": {
        "colab": {
          "base_uri": "https://localhost:8080/"
        },
        "id": "J9IV8jkHLMCf",
        "outputId": "d19de37e-a14d-47a7-8912-a9b5d56afbc3"
      },
      "outputs": [
        {
          "name": "stdout",
          "output_type": "stream",
          "text": [
            "<class 'float'>\n"
          ]
        }
      ],
      "source": [
        "a=8.7\n",
        "print(type(a))"
      ]
    },
    {
      "cell_type": "code",
      "execution_count": null,
      "metadata": {
        "colab": {
          "base_uri": "https://localhost:8080/"
        },
        "id": "h0Zqq6cpLVdG",
        "outputId": "e86e66e5-017b-439a-f2aa-1ba5d4ee95e3"
      },
      "outputs": [
        {
          "name": "stdout",
          "output_type": "stream",
          "text": [
            "<class 'str'>\n"
          ]
        }
      ],
      "source": [
        "a='Raju'\n",
        "print(type(a))"
      ]
    },
    {
      "cell_type": "code",
      "execution_count": null,
      "metadata": {
        "colab": {
          "base_uri": "https://localhost:8080/"
        },
        "id": "OHCbGNVmLcF5",
        "outputId": "ec2c2ea3-0044-4be5-fe15-6499d3c070b4"
      },
      "outputs": [
        {
          "name": "stdout",
          "output_type": "stream",
          "text": [
            "Yellow\n"
          ]
        }
      ],
      "source": [
        "a, b, c =\"red\",\"Green\",\"Yellow\"\n",
        "print(c)"
      ]
    },
    {
      "cell_type": "code",
      "execution_count": null,
      "metadata": {
        "colab": {
          "base_uri": "https://localhost:8080/"
        },
        "id": "z7rf72p7L0FL",
        "outputId": "d19521c8-bdd4-465d-bd77-1b287cc60d0f"
      },
      "outputs": [
        {
          "name": "stdout",
          "output_type": "stream",
          "text": [
            "10\n"
          ]
        }
      ],
      "source": [
        "x=y=z=10\n",
        "print(y)"
      ]
    },
    {
      "cell_type": "code",
      "execution_count": null,
      "metadata": {
        "colab": {
          "base_uri": "https://localhost:8080/"
        },
        "id": "yUlIouWrNTJr",
        "outputId": "3ecf5d4f-d8f3-4148-adec-264507ed04e3"
      },
      "outputs": [
        {
          "name": "stdout",
          "output_type": "stream",
          "text": [
            "i live in Dhaka,\n",
            "Green is my favorite,\n",
            "jsdhg\n"
          ]
        }
      ],
      "source": [
        "s=\"\"\"i live in Dhaka,\n",
        "Green is my favorite,\n",
        "jsdhg\"\"\"\n",
        "print(s)"
      ]
    },
    {
      "cell_type": "code",
      "execution_count": null,
      "metadata": {
        "colab": {
          "base_uri": "https://localhost:8080/"
        },
        "id": "dnljKrmAN16h",
        "outputId": "370f3306-2318-4c98-a766-1b3f56b21eed"
      },
      "outputs": [
        {
          "name": "stdout",
          "output_type": "stream",
          "text": [
            "a\n",
            "p\n",
            "p\n",
            "l\n",
            "e\n"
          ]
        }
      ],
      "source": [
        "for x in \"apple\":\n",
        "  print(x)"
      ]
    },
    {
      "cell_type": "code",
      "execution_count": null,
      "metadata": {
        "colab": {
          "base_uri": "https://localhost:8080/"
        },
        "id": "eTE_Eh2nPH7E",
        "outputId": "c31fd2dd-ef4e-43b9-f92c-cf686f1eb196"
      },
      "outputs": [
        {
          "name": "stdout",
          "output_type": "stream",
          "text": [
            "hik, \n"
          ]
        }
      ],
      "source": [
        "text = 'Hello koushik, this is your first python practise'\n",
        "print(text[10:15])\n"
      ]
    },
    {
      "cell_type": "code",
      "execution_count": null,
      "metadata": {
        "colab": {
          "base_uri": "https://localhost:8080/"
        },
        "id": "Q5uuirKpQPNc",
        "outputId": "934c4edd-35bd-4227-81da-38d3de66e611"
      },
      "outputs": [
        {
          "name": "stdout",
          "output_type": "stream",
          "text": [
            " hello py\n",
            "hello py\n"
          ]
        }
      ],
      "source": [
        "text2 = \" hello py\"\n",
        "print(text2)\n",
        "print(text2.strip())"
      ]
    },
    {
      "cell_type": "code",
      "execution_count": null,
      "metadata": {
        "colab": {
          "base_uri": "https://localhost:8080/"
        },
        "id": "ymyA0XDgQe8F",
        "outputId": "b20f498e-d58c-430e-fa94-4360f15e52b3"
      },
      "outputs": [
        {
          "name": "stdout",
          "output_type": "stream",
          "text": [
            " hi py\n"
          ]
        }
      ],
      "source": [
        "text2 = \" hello py\"\n",
        "print(text2.replace(\"hello\",\"hi\"))"
      ]
    },
    {
      "cell_type": "code",
      "execution_count": null,
      "metadata": {
        "colab": {
          "base_uri": "https://localhost:8080/"
        },
        "id": "fQv6vq-tRc4h",
        "outputId": "3ef025f8-9610-4cba-f0ea-5dfa679a4e53"
      },
      "outputs": [
        {
          "name": "stdout",
          "output_type": "stream",
          "text": [
            "i want 5  pices of items 60 for 100 dollars.\n"
          ]
        }
      ],
      "source": [
        "q=5\n",
        "item =60\n",
        "price=100\n",
        "myorder = \"i want {}  pices of items {} for {} dollars.\"\n",
        "print(myorder.format(q,item,price))"
      ]
    },
    {
      "cell_type": "code",
      "execution_count": null,
      "metadata": {
        "colab": {
          "base_uri": "https://localhost:8080/"
        },
        "id": "rg_sZfkJSJRn",
        "outputId": "e2024f2e-26f2-4166-c31f-db5c92dfd268"
      },
      "outputs": [
        {
          "name": "stdout",
          "output_type": "stream",
          "text": [
            "True\n"
          ]
        }
      ],
      "source": [
        "print(bool(\"hello\"))"
      ]
    },
    {
      "cell_type": "code",
      "execution_count": null,
      "metadata": {
        "colab": {
          "base_uri": "https://localhost:8080/"
        },
        "id": "0sV3OYGHSdAB",
        "outputId": "b6d12dfd-3304-4a55-8574-cf8e9da3840f"
      },
      "outputs": [
        {
          "name": "stdout",
          "output_type": "stream",
          "text": [
            "False\n"
          ]
        }
      ],
      "source": [
        "print(bool(\"\"))"
      ]
    },
    {
      "cell_type": "code",
      "execution_count": null,
      "metadata": {
        "colab": {
          "base_uri": "https://localhost:8080/"
        },
        "id": "CavFPWBySo4f",
        "outputId": "0bfc11b9-2f1c-4dbe-eea2-3d07c23e934d"
      },
      "outputs": [
        {
          "name": "stdout",
          "output_type": "stream",
          "text": [
            "16\n"
          ]
        }
      ],
      "source": [
        "x1=4\n",
        "x1 **=2\n",
        "print(x1)"
      ]
    },
    {
      "cell_type": "code",
      "execution_count": 6,
      "metadata": {
        "colab": {
          "base_uri": "https://localhost:8080/"
        },
        "id": "QgoqVgSBbiiy",
        "outputId": "65bc8887-79cf-4de7-d28a-08dbc09e9b20"
      },
      "outputs": [
        {
          "output_type": "stream",
          "name": "stdout",
          "text": [
            "1 covid\n",
            "2 covid\n",
            "3 covid\n",
            "4 covid\n"
          ]
        }
      ],
      "source": [
        "i=1\n",
        "while i<5 :\n",
        " print(i, end=\" \")\n",
        " i+=1\n",
        " print(\"covid\")"
      ]
    },
    {
      "cell_type": "code",
      "source": [
        "i=[2,5,8,9,5,1]\n",
        "for v in i :\n",
        " print(v)"
      ],
      "metadata": {
        "colab": {
          "base_uri": "https://localhost:8080/"
        },
        "id": "24mZdmExdb_n",
        "outputId": "76b457f8-840b-401d-dd77-17acebf5fd1b"
      },
      "execution_count": 7,
      "outputs": [
        {
          "output_type": "stream",
          "name": "stdout",
          "text": [
            "2\n",
            "5\n",
            "8\n",
            "9\n",
            "5\n",
            "1\n"
          ]
        }
      ]
    }
  ],
  "metadata": {
    "colab": {
      "provenance": [],
      "authorship_tag": "ABX9TyMyuetfOYval8XimnMOidOh",
      "include_colab_link": true
    },
    "kernelspec": {
      "display_name": "Python 3",
      "name": "python3"
    },
    "language_info": {
      "name": "python"
    }
  },
  "nbformat": 4,
  "nbformat_minor": 0
}